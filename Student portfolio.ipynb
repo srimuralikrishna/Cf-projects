{
 "cells": [
  {
   "cell_type": "code",
   "execution_count": 1,
   "metadata": {},
   "outputs": [
    {
     "name": "stdout",
     "output_type": "stream",
     "text": [
      "Enter Name of the Student : Rahul\n"
     ]
    }
   ],
   "source": [
    "name=input(\"Enter Name of the Student : \")"
   ]
  },
  {
   "cell_type": "code",
   "execution_count": 2,
   "metadata": {},
   "outputs": [
    {
     "name": "stdout",
     "output_type": "stream",
     "text": [
      "Enter Student Class/Std : 9\n"
     ]
    }
   ],
   "source": [
    "std=input(\"Enter Student Class/Std : \")"
   ]
  },
  {
   "cell_type": "code",
   "execution_count": 3,
   "metadata": {},
   "outputs": [
    {
     "name": "stdout",
     "output_type": "stream",
     "text": [
      " Enter Division: B\n"
     ]
    }
   ],
   "source": [
    "div  = input(\" Enter Division: \")[0]"
   ]
  },
  {
   "cell_type": "code",
   "execution_count": 4,
   "metadata": {},
   "outputs": [
    {
     "name": "stdout",
     "output_type": "stream",
     "text": [
      "Enter Student Roll No : 19\n"
     ]
    }
   ],
   "source": [
    "rollno=input(\"Enter Student Roll No : \")"
   ]
  },
  {
   "cell_type": "code",
   "execution_count": 5,
   "metadata": {},
   "outputs": [
    {
     "name": "stdout",
     "output_type": "stream",
     "text": [
      "Enter Computer Science : 75\n",
      "Enter English : 80\n",
      "Enter Maths : 96\n",
      "Enter Science: 68\n",
      "Enter hindi : 82\n"
     ]
    }
   ],
   "source": [
    "#type only integer\n",
    "sub1=int(input(\"Enter Computer Science : \"))\n",
    "sub2=int(input(\"Enter English : \"))\n",
    "sub3=int(input(\"Enter Maths : \"))\n",
    "sub4=int(input(\"Enter Science: \"))\n",
    "sub5=int(input(\"Enter hindi : \"))"
   ]
  },
  {
   "cell_type": "code",
   "execution_count": 6,
   "metadata": {},
   "outputs": [
    {
     "name": "stdout",
     "output_type": "stream",
     "text": [
      "Total Marks :  401\n"
     ]
    }
   ],
   "source": [
    "total=sub1+sub2+sub3+sub4+sub5\n",
    "print(\"Total Marks : \",total)"
   ]
  },
  {
   "cell_type": "code",
   "execution_count": 7,
   "metadata": {},
   "outputs": [
    {
     "name": "stdout",
     "output_type": "stream",
     "text": [
      "Percentage :  80.2\n"
     ]
    }
   ],
   "source": [
    "percentage = total/500*100\n",
    "print(\"Percentage : \", percentage)"
   ]
  },
  {
   "cell_type": "code",
   "execution_count": 8,
   "metadata": {},
   "outputs": [
    {
     "name": "stdout",
     "output_type": "stream",
     "text": [
      " Your biodata is: \n",
      " Your name is:  Rahul\n",
      "\n",
      " Std is:  9\n",
      "\n",
      " Rollno is:  19\n",
      "\n",
      " Computer Science marks is:  75\n",
      "\n",
      " English marks            :  80\n",
      "\n",
      " Maths marks              :  96\n",
      "\n",
      " Science marks            :  68\n",
      "\n",
      " Hindi marks              :  82\n",
      "\n",
      " Percentage               :  80.2 %\n"
     ]
    }
   ],
   "source": [
    "print(\" Your biodata is: \")\n",
    "print(\" Your name is: \",name)\n",
    "print()\n",
    "print(\" Std is: \", std)\n",
    "print()\n",
    "print(\" Rollno is: \", rollno)\n",
    "print()\n",
    "print(\" Computer Science marks is: \",sub1)\n",
    "print()\n",
    "print(\" English marks            : \",sub2)\n",
    "print()\n",
    "print(\" Maths marks              : \",sub3)\n",
    "print()\n",
    "print(\" Science marks            : \",sub4)\n",
    "print()\n",
    "print(\" Hindi marks              : \",sub5)\n",
    "print()\n",
    "print(\" Percentage               : \",percentage,\"%\")"
   ]
  }
 ],
 "metadata": {
  "kernelspec": {
   "display_name": "Python 3",
   "language": "python",
   "name": "python3"
  },
  "language_info": {
   "codemirror_mode": {
    "name": "ipython",
    "version": 3
   },
   "file_extension": ".py",
   "mimetype": "text/x-python",
   "name": "python",
   "nbconvert_exporter": "python",
   "pygments_lexer": "ipython3",
   "version": "3.8.5"
  }
 },
 "nbformat": 4,
 "nbformat_minor": 4
}
